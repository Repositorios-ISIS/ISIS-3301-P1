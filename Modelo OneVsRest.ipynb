{
 "cells": [
  {
   "cell_type": "markdown",
   "id": "07053ab7",
   "metadata": {},
   "source": [
    "![](data/banner.png)\n",
    "# Objetivos\n",
    "+ Crear un modelo exportable de aprendizaje supervisado usando clasificación con el algoritmo Naive Bayes"
   ]
  },
  {
   "cell_type": "markdown",
   "id": "07d4f1da",
   "metadata": {},
   "source": [
    "# Librerias"
   ]
  },
  {
   "cell_type": "code",
   "execution_count": 1,
   "id": "2174949b",
   "metadata": {},
   "outputs": [],
   "source": [
    "# Declaración de la semilla\n",
    "seed = 161\n",
    "\n",
    "# Para trabajar los datos\n",
    "import pandas as pd\n",
    "import numpy as np\n",
    "\n",
    "# Para visualizar los datos\n",
    "import matplotlib.pyplot as plt\n",
    "import seaborn as sns\n",
    "\n",
    "# Sklearn\n",
    "from sklearn.multiclass import OneVsRestClassifier\n",
    "from sklearn.svm import SVC\n",
    "\n",
    "# Vectorizar\n",
    "from sklearn.feature_extraction.text import CountVectorizer, TfidfVectorizer\n",
    "\n",
    "#Split our dataset\n",
    "from sklearn.model_selection import train_test_split\n",
    "\n",
    "# Metricas\n",
    "from sklearn.metrics import accuracy_score, confusion_matrix, classification_report, plot_confusion_matrix\n",
    "\n",
    "# Para búsqueda de hiperparámetros\n",
    "from sklearn.model_selection import GridSearchCV\n",
    "# Para la validación cruzada\n",
    "from sklearn.model_selection import KFold \n",
    "# Para el uso de pipelines\n",
    "from imblearn.pipeline import Pipeline\n",
    "\n",
    "# Importar/ Exportar modelos\n",
    "import joblib"
   ]
  },
  {
   "cell_type": "markdown",
   "id": "22ff44fa",
   "metadata": {},
   "source": [
    "# Modelo"
   ]
  },
  {
   "cell_type": "markdown",
   "id": "1f401ce9",
   "metadata": {},
   "source": [
    "Cargamos los datos"
   ]
  },
  {
   "cell_type": "code",
   "execution_count": 2,
   "id": "2e6df72a",
   "metadata": {},
   "outputs": [],
   "source": [
    "# Cargamos el dataset\n",
    "file = \"train\"\n",
    "df=pd.read_csv(f'data/{file}_preprocessed.csv', sep=',', encoding = 'utf-8')\n",
    "df = df[[\"Emotion\",\"processed_message\"]]"
   ]
  },
  {
   "cell_type": "code",
   "execution_count": 3,
   "id": "616f602d",
   "metadata": {
    "scrolled": true
   },
   "outputs": [
    {
     "data": {
      "text/html": [
       "<div>\n",
       "<style scoped>\n",
       "    .dataframe tbody tr th:only-of-type {\n",
       "        vertical-align: middle;\n",
       "    }\n",
       "\n",
       "    .dataframe tbody tr th {\n",
       "        vertical-align: top;\n",
       "    }\n",
       "\n",
       "    .dataframe thead th {\n",
       "        text-align: right;\n",
       "    }\n",
       "</style>\n",
       "<table border=\"1\" class=\"dataframe\">\n",
       "  <thead>\n",
       "    <tr style=\"text-align: right;\">\n",
       "      <th></th>\n",
       "      <th>Emotion</th>\n",
       "      <th>processed_message</th>\n",
       "    </tr>\n",
       "  </thead>\n",
       "  <tbody>\n",
       "    <tr>\n",
       "      <th>0</th>\n",
       "      <td>sadness</td>\n",
       "      <td>humy humiliate</td>\n",
       "    </tr>\n",
       "    <tr>\n",
       "      <th>1</th>\n",
       "      <td>sadness</td>\n",
       "      <td>go hopeless damn hop around someon car awak go...</td>\n",
       "    </tr>\n",
       "    <tr>\n",
       "      <th>2</th>\n",
       "      <td>anger</td>\n",
       "      <td>grab minut post greedy wrong grab minute post ...</td>\n",
       "    </tr>\n",
       "    <tr>\n",
       "      <th>3</th>\n",
       "      <td>love</td>\n",
       "      <td>ev nostalg fireplac know stil property ever no...</td>\n",
       "    </tr>\n",
       "    <tr>\n",
       "      <th>4</th>\n",
       "      <td>anger</td>\n",
       "      <td>grouchy grouchy</td>\n",
       "    </tr>\n",
       "  </tbody>\n",
       "</table>\n",
       "</div>"
      ],
      "text/plain": [
       "   Emotion                                  processed_message\n",
       "0  sadness                                     humy humiliate\n",
       "1  sadness  go hopeless damn hop around someon car awak go...\n",
       "2    anger  grab minut post greedy wrong grab minute post ...\n",
       "3     love  ev nostalg fireplac know stil property ever no...\n",
       "4    anger                                    grouchy grouchy"
      ]
     },
     "execution_count": 3,
     "metadata": {},
     "output_type": "execute_result"
    }
   ],
   "source": [
    "df.head()"
   ]
  },
  {
   "cell_type": "markdown",
   "id": "2bc52ea1",
   "metadata": {},
   "source": [
    "Separamos el dataset"
   ]
  },
  {
   "cell_type": "code",
   "execution_count": 4,
   "id": "2cefccac",
   "metadata": {},
   "outputs": [],
   "source": [
    "X = df[\"processed_message\"]\n",
    "Y = df['Emotion']"
   ]
  },
  {
   "cell_type": "code",
   "execution_count": 5,
   "id": "946292db",
   "metadata": {},
   "outputs": [
    {
     "data": {
      "text/plain": [
       "Pipeline(steps=[('tf_idv', TfidfVectorizer()),\n",
       "                ('ovr', OneVsRestClassifier(estimator=SVC(kernel='poly')))])"
      ]
     },
     "execution_count": 5,
     "metadata": {},
     "output_type": "execute_result"
    }
   ],
   "source": [
    "# Creamos el modelo básico\n",
    "model = Pipeline(steps = [\n",
    "    (\"tf_idv\",TfidfVectorizer()),\n",
    "    (\"ovr\",OneVsRestClassifier(SVC(kernel=\"poly\")))\n",
    "])\n",
    "model"
   ]
  },
  {
   "cell_type": "code",
   "execution_count": 6,
   "id": "75118636",
   "metadata": {},
   "outputs": [],
   "source": [
    "param_grid ={\n",
    "    \"ovr__estimator__C\": [1,2,3],\n",
    "    \"ovr__estimator__kernel\": [\"poly\",\"rbf\"],\n",
    "    \"ovr__estimator__degree\":[1,2],\n",
    "}"
   ]
  },
  {
   "cell_type": "code",
   "execution_count": 7,
   "id": "f1cbfa0c",
   "metadata": {},
   "outputs": [],
   "source": [
    "grid_selector = GridSearchCV(estimator = model, param_grid = param_grid, cv=10, n_jobs=-1)"
   ]
  },
  {
   "cell_type": "code",
   "execution_count": 8,
   "id": "1610646c",
   "metadata": {
    "scrolled": false
   },
   "outputs": [
    {
     "data": {
      "text/plain": [
       "GridSearchCV(cv=10,\n",
       "             estimator=Pipeline(steps=[('tf_idv', TfidfVectorizer()),\n",
       "                                       ('ovr',\n",
       "                                        OneVsRestClassifier(estimator=SVC(kernel='poly')))]),\n",
       "             n_jobs=-1,\n",
       "             param_grid={'ovr__estimator__C': [1, 2, 3],\n",
       "                         'ovr__estimator__degree': [1, 2],\n",
       "                         'ovr__estimator__kernel': ['poly', 'rbf']})"
      ]
     },
     "execution_count": 8,
     "metadata": {},
     "output_type": "execute_result"
    }
   ],
   "source": [
    "grid_selector.fit(X,Y)"
   ]
  },
  {
   "cell_type": "code",
   "execution_count": 9,
   "id": "0b5b2817",
   "metadata": {},
   "outputs": [
    {
     "data": {
      "text/plain": [
       "Pipeline(steps=[('tf_idv', TfidfVectorizer()),\n",
       "                ('ovr',\n",
       "                 OneVsRestClassifier(estimator=SVC(C=1, degree=1,\n",
       "                                                   kernel='poly')))])"
      ]
     },
     "execution_count": 9,
     "metadata": {},
     "output_type": "execute_result"
    }
   ],
   "source": [
    "final_model = grid_selector.best_estimator_\n",
    "final_model"
   ]
  },
  {
   "cell_type": "code",
   "execution_count": 10,
   "id": "c144e522",
   "metadata": {},
   "outputs": [
    {
     "data": {
      "text/plain": [
       "array(['surprise'], dtype='<U8')"
      ]
     },
     "execution_count": 10,
     "metadata": {},
     "output_type": "execute_result"
    }
   ],
   "source": [
    "final_model.predict([\"it amaz impress\"])"
   ]
  },
  {
   "cell_type": "markdown",
   "id": "54664920",
   "metadata": {},
   "source": [
    "# Guardamos el modelo"
   ]
  },
  {
   "cell_type": "code",
   "execution_count": 11,
   "id": "d9fbbc86",
   "metadata": {},
   "outputs": [],
   "source": [
    "pipeline_file = open(\"pipeline_OneVsRest.joblib\",\"wb\")\n",
    "joblib.dump(final_model,pipeline_file)\n",
    "pipeline_file.close()"
   ]
  },
  {
   "cell_type": "code",
   "execution_count": null,
   "id": "ca63a1fa",
   "metadata": {},
   "outputs": [],
   "source": []
  }
 ],
 "metadata": {
  "kernelspec": {
   "display_name": "Python 3 (ipykernel)",
   "language": "python",
   "name": "python3"
  },
  "language_info": {
   "codemirror_mode": {
    "name": "ipython",
    "version": 3
   },
   "file_extension": ".py",
   "mimetype": "text/x-python",
   "name": "python",
   "nbconvert_exporter": "python",
   "pygments_lexer": "ipython3",
   "version": "3.8.8"
  },
  "toc": {
   "base_numbering": 1,
   "nav_menu": {},
   "number_sections": true,
   "sideBar": true,
   "skip_h1_title": false,
   "title_cell": "Table of Contents",
   "title_sidebar": "Contents",
   "toc_cell": false,
   "toc_position": {},
   "toc_section_display": true,
   "toc_window_display": false
  }
 },
 "nbformat": 4,
 "nbformat_minor": 5
}
