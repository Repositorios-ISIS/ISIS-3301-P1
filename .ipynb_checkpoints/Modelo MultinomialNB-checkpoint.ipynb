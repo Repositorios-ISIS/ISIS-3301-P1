{
 "cells": [
  {
   "cell_type": "markdown",
   "id": "575aaa95",
   "metadata": {},
   "source": [
    "![](data/banner.png)\n",
    "# Objetivos\n",
    "+ Crear un modelo exportable de aprendizaje supervisado usando clasificación con el algoritmo Naive Bayes"
   ]
  },
  {
   "cell_type": "markdown",
   "id": "82618129",
   "metadata": {},
   "source": [
    "# Librerias"
   ]
  },
  {
   "cell_type": "code",
   "execution_count": 1,
   "id": "312dcd83",
   "metadata": {},
   "outputs": [],
   "source": [
    "# Declaración de la semilla\n",
    "seed = 161\n",
    "\n",
    "# Para trabajar los datos\n",
    "import pandas as pd\n",
    "import numpy as np\n",
    "\n",
    "# Para visualizar los datos\n",
    "import matplotlib.pyplot as plt\n",
    "import seaborn as sns\n",
    "\n",
    "# Sklearn\n",
    "from sklearn.linear_model import LogisticRegression\n",
    "from sklearn.naive_bayes import MultinomialNB\n",
    "from sklearn.naive_bayes import GaussianNB\n",
    "\n",
    "# Vectorizar\n",
    "from sklearn.feature_extraction.text import CountVectorizer, TfidfVectorizer\n",
    "\n",
    "#Split our dataset\n",
    "from sklearn.model_selection import train_test_split\n",
    "\n",
    "# Metricas\n",
    "from sklearn.metrics import accuracy_score, confusion_matrix, classification_report, plot_confusion_matrix\n",
    "\n",
    "# Para búsqueda de hiperparámetros\n",
    "from sklearn.model_selection import GridSearchCV\n",
    "# Para la validación cruzada\n",
    "from sklearn.model_selection import KFold \n",
    "# Para el uso de pipelines\n",
    "from imblearn.pipeline import Pipeline"
   ]
  },
  {
   "cell_type": "markdown",
   "id": "e18285b1",
   "metadata": {},
   "source": [
    "# Modelo"
   ]
  },
  {
   "cell_type": "markdown",
   "id": "f8fe39ff",
   "metadata": {},
   "source": [
    "Cargamos los datos"
   ]
  },
  {
   "cell_type": "code",
   "execution_count": 2,
   "id": "e919fd7b",
   "metadata": {},
   "outputs": [],
   "source": [
    "# Cargamos el dataset\n",
    "file = \"train\"\n",
    "df=pd.read_csv(f'data/{file}_preprocessed.csv', sep=',', encoding = 'utf-8')\n",
    "df = df[[\"Emotion\",\"processed_message\"]]"
   ]
  },
  {
   "cell_type": "code",
   "execution_count": 3,
   "id": "269f2a3b",
   "metadata": {
    "scrolled": true
   },
   "outputs": [
    {
     "data": {
      "text/html": [
       "<div>\n",
       "<style scoped>\n",
       "    .dataframe tbody tr th:only-of-type {\n",
       "        vertical-align: middle;\n",
       "    }\n",
       "\n",
       "    .dataframe tbody tr th {\n",
       "        vertical-align: top;\n",
       "    }\n",
       "\n",
       "    .dataframe thead th {\n",
       "        text-align: right;\n",
       "    }\n",
       "</style>\n",
       "<table border=\"1\" class=\"dataframe\">\n",
       "  <thead>\n",
       "    <tr style=\"text-align: right;\">\n",
       "      <th></th>\n",
       "      <th>Emotion</th>\n",
       "      <th>processed_message</th>\n",
       "    </tr>\n",
       "  </thead>\n",
       "  <tbody>\n",
       "    <tr>\n",
       "      <th>0</th>\n",
       "      <td>sadness</td>\n",
       "      <td>feel humy feel humiliate</td>\n",
       "    </tr>\n",
       "    <tr>\n",
       "      <th>1</th>\n",
       "      <td>sadness</td>\n",
       "      <td>go feel hopeless damn hop around someon car aw...</td>\n",
       "    </tr>\n",
       "    <tr>\n",
       "      <th>2</th>\n",
       "      <td>anger</td>\n",
       "      <td>grab minut post feel greedy wrong grab minute ...</td>\n",
       "    </tr>\n",
       "    <tr>\n",
       "      <th>3</th>\n",
       "      <td>love</td>\n",
       "      <td>ev feel nostalg fireplac know stil property ev...</td>\n",
       "    </tr>\n",
       "    <tr>\n",
       "      <th>4</th>\n",
       "      <td>anger</td>\n",
       "      <td>feel grouchy feel grouchy</td>\n",
       "    </tr>\n",
       "  </tbody>\n",
       "</table>\n",
       "</div>"
      ],
      "text/plain": [
       "   Emotion                                  processed_message\n",
       "0  sadness                           feel humy feel humiliate\n",
       "1  sadness  go feel hopeless damn hop around someon car aw...\n",
       "2    anger  grab minut post feel greedy wrong grab minute ...\n",
       "3     love  ev feel nostalg fireplac know stil property ev...\n",
       "4    anger                          feel grouchy feel grouchy"
      ]
     },
     "execution_count": 3,
     "metadata": {},
     "output_type": "execute_result"
    }
   ],
   "source": [
    "df.head()"
   ]
  },
  {
   "cell_type": "markdown",
   "id": "78a58f1b",
   "metadata": {},
   "source": [
    "Separamos el dataset"
   ]
  },
  {
   "cell_type": "code",
   "execution_count": 4,
   "id": "29128e30",
   "metadata": {},
   "outputs": [],
   "source": [
    "X = df[\"processed_message\"]\n",
    "Y = df['Emotion']\n",
    "X_train, X_test, y_train, y_test = train_test_split(X, Y, test_size=0.3, random_state = 42)"
   ]
  },
  {
   "cell_type": "code",
   "execution_count": 5,
   "id": "f50a7784",
   "metadata": {},
   "outputs": [
    {
     "data": {
      "text/plain": [
       "Pipeline(steps=[('tf_idv', TfidfVectorizer()), ('mnv', MultinomialNB())])"
      ]
     },
     "execution_count": 5,
     "metadata": {},
     "output_type": "execute_result"
    }
   ],
   "source": [
    "# Creamos el modelo básico\n",
    "model = Pipeline(steps = [\n",
    "    (\"tf_idv\",TfidfVectorizer()),\n",
    "    (\"mnv\",MultinomialNB())\n",
    "])\n",
    "model"
   ]
  },
  {
   "cell_type": "code",
   "execution_count": 6,
   "id": "9bf1059b",
   "metadata": {},
   "outputs": [],
   "source": [
    "# Hiperparametros\n",
    "param_grid = {'mnv__alpha': (1e-2, 1e-3)}"
   ]
  },
  {
   "cell_type": "code",
   "execution_count": 7,
   "id": "ab8f206e",
   "metadata": {},
   "outputs": [],
   "source": [
    "grid_selector = GridSearchCV(estimator = model, param_grid = param_grid, cv=10, n_jobs=-1)"
   ]
  },
  {
   "cell_type": "code",
   "execution_count": 8,
   "id": "5cf95fa6",
   "metadata": {
    "scrolled": false
   },
   "outputs": [],
   "source": [
    "grid_selector = grid_selector.fit(X_train,y_train)"
   ]
  },
  {
   "cell_type": "code",
   "execution_count": 9,
   "id": "ec16c26a",
   "metadata": {},
   "outputs": [
    {
     "data": {
      "text/plain": [
       "Pipeline(steps=[('tf_idv', TfidfVectorizer()),\n",
       "                ('mnv', MultinomialNB(alpha=0.01))])"
      ]
     },
     "execution_count": 9,
     "metadata": {},
     "output_type": "execute_result"
    }
   ],
   "source": [
    "final_model = grid_selector.best_estimator_\n",
    "final_model"
   ]
  },
  {
   "cell_type": "code",
   "execution_count": 10,
   "id": "f9a2595f",
   "metadata": {},
   "outputs": [
    {
     "data": {
      "text/plain": [
       "array(['surprise'], dtype='<U8')"
      ]
     },
     "execution_count": 10,
     "metadata": {},
     "output_type": "execute_result"
    }
   ],
   "source": [
    "final_model.predict([\"it amaz impress\"])"
   ]
  },
  {
   "cell_type": "markdown",
   "id": "478b2f8a",
   "metadata": {},
   "source": [
    "# Análisis del modelo"
   ]
  },
  {
   "cell_type": "code",
   "execution_count": 11,
   "id": "c244e9dd",
   "metadata": {},
   "outputs": [
    {
     "data": {
      "text/plain": [
       "0.715625"
      ]
     },
     "execution_count": 11,
     "metadata": {},
     "output_type": "execute_result"
    }
   ],
   "source": [
    "final_model.score(X_test,y_test)"
   ]
  },
  {
   "cell_type": "code",
   "execution_count": 12,
   "id": "cfa52d80",
   "metadata": {},
   "outputs": [],
   "source": [
    "#Predictions\n",
    "y_pred = final_model.predict(X_test)"
   ]
  },
  {
   "cell_type": "code",
   "execution_count": 13,
   "id": "3a51eec1",
   "metadata": {},
   "outputs": [
    {
     "name": "stdout",
     "output_type": "stream",
     "text": [
      "              precision    recall  f1-score   support\n",
      "\n",
      "       anger       0.73      0.61      0.66       607\n",
      "        fear       0.76      0.58      0.66       566\n",
      "         joy       0.69      0.88      0.77      1581\n",
      "        love       0.74      0.31      0.44       434\n",
      "     sadness       0.73      0.82      0.78      1434\n",
      "    surprise       0.71      0.19      0.30       178\n",
      "\n",
      "    accuracy                           0.72      4800\n",
      "   macro avg       0.73      0.56      0.60      4800\n",
      "weighted avg       0.72      0.72      0.70      4800\n",
      "\n"
     ]
    }
   ],
   "source": [
    "# Classification\n",
    "print(classification_report(y_test, y_pred))"
   ]
  },
  {
   "cell_type": "code",
   "execution_count": 14,
   "id": "070d3ae6",
   "metadata": {},
   "outputs": [
    {
     "data": {
      "text/plain": [
       "<sklearn.metrics._plot.confusion_matrix.ConfusionMatrixDisplay at 0x14bae1a0ac0>"
      ]
     },
     "execution_count": 14,
     "metadata": {},
     "output_type": "execute_result"
    },
    {
     "data": {
      "image/png": "[encoded data removed]",
      "text/plain": [
       "<Figure size 432x288 with 2 Axes>"
      ]
     },
     "metadata": {
      "needs_background": "light"
     },
     "output_type": "display_data"
    }
   ],
   "source": [
    "plot_confusion_matrix(final_model, X_test, y_test)"
   ]
  }
 ],
 "metadata": {
  "kernelspec": {
   "display_name": "Python 3 (ipykernel)",
   "language": "python",
   "name": "python3"
  },
  "language_info": {
   "codemirror_mode": {
    "name": "ipython",
    "version": 3
   },
   "file_extension": ".py",
   "mimetype": "text/x-python",
   "name": "python",
   "nbconvert_exporter": "python",
   "pygments_lexer": "ipython3",
   "version": "3.8.8"
  },
  "toc": {
   "base_numbering": 1,
   "nav_menu": {},
   "number_sections": true,
   "sideBar": true,
   "skip_h1_title": false,
   "title_cell": "Table of Contents",
   "title_sidebar": "Contents",
   "toc_cell": false,
   "toc_position": {},
   "toc_section_display": true,
   "toc_window_display": false
  }
 },
 "nbformat": 4,
 "nbformat_minor": 5
}
