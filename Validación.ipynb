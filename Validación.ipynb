{
 "cells": [
  {
   "cell_type": "markdown",
   "id": "2251bf50",
   "metadata": {},
   "source": [
    "![](data/banner.png)\n",
    "# Objetivos\n",
    "+ Validar los modelos creados confrontandolos con el dataset de pruebas"
   ]
  },
  {
   "cell_type": "markdown",
   "id": "ffc6bc75",
   "metadata": {},
   "source": [
    "# Librerias y datos de prueba"
   ]
  },
  {
   "cell_type": "code",
   "execution_count": 1,
   "id": "d6f110ce",
   "metadata": {},
   "outputs": [],
   "source": [
    "import numpy as np\n",
    "import pandas as pd\n",
    "import joblib\n",
    "# Metricas\n",
    "from sklearn.metrics import accuracy_score, confusion_matrix, classification_report, plot_confusion_matrix\n",
    "\n",
    "df_val = pd.read_csv('data/val.csv', sep=';', encoding = 'utf-8', names = [\"Text\",\"Emotion\"])\n",
    "X = df_val[\"Text\"]\n",
    "y_true = df_val['Emotion']"
   ]
  },
  {
   "cell_type": "markdown",
   "id": "4ebb0e49",
   "metadata": {},
   "source": [
    "# Pruebas Naive Bayes"
   ]
  },
  {
   "cell_type": "code",
   "execution_count": 2,
   "id": "0f16b898",
   "metadata": {},
   "outputs": [],
   "source": [
    "# Ubicación del pipeline 1\n",
    "filename1 = 'pipeline_MultinomialNB.joblib'\n",
    "\n",
    "# Lee el archivo y carga el modelo\n",
    "pipeline1 = joblib.load(filename1)\n",
    "\n",
    "# Predice las emociones\n",
    "y_predicted1 =  pipeline1.predict(X)"
   ]
  },
  {
   "cell_type": "code",
   "execution_count": 3,
   "id": "9b8f7614",
   "metadata": {},
   "outputs": [
    {
     "data": {
      "text/plain": [
       "0.518"
      ]
     },
     "execution_count": 3,
     "metadata": {},
     "output_type": "execute_result"
    }
   ],
   "source": [
    "pipeline1.score(X,y_true)"
   ]
  },
  {
   "cell_type": "code",
   "execution_count": 4,
   "id": "06c46584",
   "metadata": {},
   "outputs": [
    {
     "name": "stdout",
     "output_type": "stream",
     "text": [
      "              precision    recall  f1-score   support\n",
      "\n",
      "       anger       0.60      0.31      0.40       275\n",
      "        fear       0.66      0.23      0.34       212\n",
      "         joy       0.56      0.71      0.62       704\n",
      "        love       0.27      0.41      0.33       178\n",
      "     sadness       0.53      0.60      0.56       550\n",
      "    surprise       0.33      0.01      0.02        81\n",
      "\n",
      "    accuracy                           0.52      2000\n",
      "   macro avg       0.49      0.38      0.38      2000\n",
      "weighted avg       0.53      0.52      0.50      2000\n",
      "\n"
     ]
    }
   ],
   "source": [
    "print(classification_report(y_true, y_predicted1))"
   ]
  },
  {
   "cell_type": "code",
   "execution_count": 5,
   "id": "ca5df1b0",
   "metadata": {
    "scrolled": true
   },
   "outputs": [
    {
     "data": {
      "text/plain": [
       "<sklearn.metrics._plot.confusion_matrix.ConfusionMatrixDisplay at 0x214d42c3070>"
      ]
     },
     "execution_count": 5,
     "metadata": {},
     "output_type": "execute_result"
    },
    {
     "data": {
      "image/png": "[encoded data removed]",
      "text/plain": [
       "<Figure size 432x288 with 2 Axes>"
      ]
     },
     "metadata": {
      "needs_background": "light"
     },
     "output_type": "display_data"
    }
   ],
   "source": [
    "plot_confusion_matrix(pipeline1, X, y_true)"
   ]
  },
  {
   "cell_type": "markdown",
   "id": "febccc51",
   "metadata": {},
   "source": [
    "# Pruebas SVC"
   ]
  },
  {
   "cell_type": "code",
   "execution_count": 6,
   "id": "478d4d8e",
   "metadata": {},
   "outputs": [],
   "source": [
    "# Ubicación del pipeline 2\n",
    "filename2 = 'pipeline_SVC.joblib'\n",
    "\n",
    "# Lee el archivo y carga el modelo\n",
    "pipeline2 = joblib.load(filename2)\n",
    "\n",
    "# Predice las emociones\n",
    "y_predicted2 =  pipeline2.predict(X)"
   ]
  },
  {
   "cell_type": "code",
   "execution_count": 7,
   "id": "9dc37118",
   "metadata": {},
   "outputs": [
    {
     "data": {
      "text/plain": [
       "0.6825"
      ]
     },
     "execution_count": 7,
     "metadata": {},
     "output_type": "execute_result"
    }
   ],
   "source": [
    "pipeline2.score(X,y_true)"
   ]
  },
  {
   "cell_type": "code",
   "execution_count": 8,
   "id": "a5a78d88",
   "metadata": {},
   "outputs": [
    {
     "name": "stdout",
     "output_type": "stream",
     "text": [
      "              precision    recall  f1-score   support\n",
      "\n",
      "       anger       0.85      0.47      0.60       275\n",
      "        fear       0.81      0.50      0.62       212\n",
      "         joy       0.60      0.93      0.73       704\n",
      "        love       0.83      0.43      0.57       178\n",
      "     sadness       0.74      0.70      0.72       550\n",
      "    surprise       0.86      0.15      0.25        81\n",
      "\n",
      "    accuracy                           0.68      2000\n",
      "   macro avg       0.78      0.53      0.58      2000\n",
      "weighted avg       0.73      0.68      0.66      2000\n",
      "\n"
     ]
    }
   ],
   "source": [
    "print(classification_report(y_true, y_predicted2))"
   ]
  },
  {
   "cell_type": "code",
   "execution_count": 9,
   "id": "f22f0607",
   "metadata": {
    "scrolled": true
   },
   "outputs": [
    {
     "data": {
      "text/plain": [
       "<sklearn.metrics._plot.confusion_matrix.ConfusionMatrixDisplay at 0x214d56e9880>"
      ]
     },
     "execution_count": 9,
     "metadata": {},
     "output_type": "execute_result"
    },
    {
     "data": {
      "image/png": "[encoded data removed]",
      "text/plain": [
       "<Figure size 432x288 with 2 Axes>"
      ]
     },
     "metadata": {
      "needs_background": "light"
     },
     "output_type": "display_data"
    }
   ],
   "source": [
    "plot_confusion_matrix(pipeline2, X, y_true)"
   ]
  },
  {
   "cell_type": "markdown",
   "id": "249b4b6c",
   "metadata": {},
   "source": [
    "# Pruebas OneVsRest"
   ]
  },
  {
   "cell_type": "code",
   "execution_count": 10,
   "id": "b76bf31b",
   "metadata": {},
   "outputs": [],
   "source": [
    "# Ubicación del pipeline 2\n",
    "filename3 = 'pipeline_OneVsRest.joblib'\n",
    "\n",
    "# Lee el archivo y carga el modelo\n",
    "pipeline3 = joblib.load(filename3)\n",
    "\n",
    "# Predice las emociones\n",
    "y_predicted3 =  pipeline3.predict(X)"
   ]
  },
  {
   "cell_type": "code",
   "execution_count": 11,
   "id": "fbbff86a",
   "metadata": {},
   "outputs": [
    {
     "data": {
      "text/plain": [
       "0.7025"
      ]
     },
     "execution_count": 11,
     "metadata": {},
     "output_type": "execute_result"
    }
   ],
   "source": [
    "pipeline3.score(X,y_true)"
   ]
  },
  {
   "cell_type": "code",
   "execution_count": 12,
   "id": "91ef2074",
   "metadata": {},
   "outputs": [
    {
     "name": "stdout",
     "output_type": "stream",
     "text": [
      "              precision    recall  f1-score   support\n",
      "\n",
      "       anger       0.81      0.51      0.62       275\n",
      "        fear       0.84      0.54      0.66       212\n",
      "         joy       0.63      0.92      0.75       704\n",
      "        love       0.81      0.55      0.66       178\n",
      "     sadness       0.75      0.70      0.73       550\n",
      "    surprise       0.84      0.20      0.32        81\n",
      "\n",
      "    accuracy                           0.70      2000\n",
      "   macro avg       0.78      0.57      0.62      2000\n",
      "weighted avg       0.73      0.70      0.69      2000\n",
      "\n"
     ]
    }
   ],
   "source": [
    "print(classification_report(y_true, y_predicted3))"
   ]
  },
  {
   "cell_type": "code",
   "execution_count": 13,
   "id": "4b5a8250",
   "metadata": {},
   "outputs": [
    {
     "data": {
      "text/plain": [
       "<sklearn.metrics._plot.confusion_matrix.ConfusionMatrixDisplay at 0x214d5aeaa90>"
      ]
     },
     "execution_count": 13,
     "metadata": {},
     "output_type": "execute_result"
    },
    {
     "data": {
      "image/png": "[encoded data removed]",
      "text/plain": [
       "<Figure size 432x288 with 2 Axes>"
      ]
     },
     "metadata": {
      "needs_background": "light"
     },
     "output_type": "display_data"
    }
   ],
   "source": [
    "plot_confusion_matrix(pipeline3, X, y_true)"
   ]
  }
 ],
 "metadata": {
  "kernelspec": {
   "display_name": "Python 3 (ipykernel)",
   "language": "python",
   "name": "python3"
  },
  "language_info": {
   "codemirror_mode": {
    "name": "ipython",
    "version": 3
   },
   "file_extension": ".py",
   "mimetype": "text/x-python",
   "name": "python",
   "nbconvert_exporter": "python",
   "pygments_lexer": "ipython3",
   "version": "3.8.8"
  },
  "toc": {
   "base_numbering": 1,
   "nav_menu": {},
   "number_sections": true,
   "sideBar": true,
   "skip_h1_title": false,
   "title_cell": "Table of Contents",
   "title_sidebar": "Contents",
   "toc_cell": false,
   "toc_position": {},
   "toc_section_display": true,
   "toc_window_display": false
  }
 },
 "nbformat": 4,
 "nbformat_minor": 5
}
